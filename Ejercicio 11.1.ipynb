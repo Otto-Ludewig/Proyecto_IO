{
 "cells": [
  {
   "cell_type": "markdown",
   "id": "edba46fb",
   "metadata": {},
   "source": [
    "# California Manufacturing Company\n",
    "***\n",
    "<p align=\"justify\">Una vez presentadas las herramientas en el planteamiento del ejercicio $8.1$ ahora pasaremos a hacer un analisis mas directo de los resultados para un modelo bastante mas modesto, que nos introduce una nueva limitante: Nuestras variables representan decisiones binarias. Para ello, exploraremos un ejercicio breve: </p> "
   ]
  },
  {
   "cell_type": "markdown",
   "id": "4288c368",
   "metadata": {},
   "source": [
    "## Planteamiento del Problema\n",
    "<p align=\"justify\">La California Manufacturing Company analiza la posibilidad de llevar a cabo una expansión mediante la construcción de una nueva fábrica ya sea en Los Ángeles o en San Francisco, o tal vez en ambas ciudades. También piensa en construir, a lo sumo, un nuevo almacén, pero la decisión sobre el lugar en donde lo instalará está restringida a la ciudad donde se construya la nueva fábrica. Con $10\\$ $ Millones disponibles para tomar decisiones y los datos a tener en cuenta presentandos en la siguiente tabla, el objetivo es encontrar la combinación factible de alternativas que maximice el valor presente neto total. </p>"
   ]
  },
  {
   "cell_type": "markdown",
   "id": "c4f89f7f",
   "metadata": {},
   "source": [
    "|                                    | Valor presente neto | Capital Requerido |\n",
    "|:----------------------------------:|:-------------------:|:-----------------:|\n",
    "| Construir fabrica en  Los Angeles  |     $\\$9$ Millones     |    $\\$6$ Millones    |\n",
    "| Construir fabrica en San Francisco |     $\\$5$ Millones     |    $\\$3$ Millones    |\n",
    "|  Construir almacen en Los Angeles  |     $\\$6$ Millones     |    $\\$5$ Millones    |\n",
    "| Construir almacen en San Francisco |     $\\$4$ Millones     |    $\\$2$ Millones    |"
   ]
  },
  {
   "cell_type": "markdown",
   "id": "abd3235a",
   "metadata": {},
   "source": [
    "## Modelado matematico\n",
    "\n",
    "Lo primero en nuestro modelo sera plantear las variables de decision, las cuales vienen directamente de las **decisiones** que tomaremos sobre las ubicaciones de la fabrica y el almacen.\n",
    "Debido a ello, tendremos $4$ variables de decision en nuestro modelo a considerar:\n",
    "- $x_{1}$= Construir la fabrica en Los Angeles\n",
    "- $x_{2}$= Construir la fabrica en San Francisco\n",
    "- $x_{3}$= Construir almacen en Los Angeles\n",
    "- $x_{4}$= Construir almacen en San Francisco."
   ]
  },
  {
   "cell_type": "markdown",
   "id": "fb28a081",
   "metadata": {},
   "source": [
    "### Funcion Objetivo\n",
    "Desde California Manufacturing Company se busca el conjunto de decisiones que ofrezcan mayores resultados segun la inversion y los capitales disponibles. \n",
    "Es decir, buscamos **maximizar** los resultados sobre las decisiones disponibles. Dicha funcion objetivo seria:\n",
    "$$Z = 9x_{1} + 5x_{2} + 6x_{3} + 4x_{4}$$\n",
    "Donde las unidades de cada cociente de las variables de decision representa los millones de dolares de valor neto que aporta cada decision."
   ]
  },
  {
   "cell_type": "markdown",
   "id": "385439ba",
   "metadata": {},
   "source": [
    "### Restricciones\n",
    "En este modelo tendremos $4$ restricciones: Una sobre presupuesto, una sobre la localizacion del almacen y dos sobre lo que se hara en cada ciudad.\n",
    "\n",
    "#### Restriccion de presupuesto\n",
    "Teniendo en cuenta que desde la empresa contamos con $\\$$ $10$ Millones para todas las operaciones podemos construir una restriccion tal que:\n",
    "$$ 6x_{1}+ 3x_{2} + 5x_{3} + 2x_{4} \\leq 10$$"
   ]
  },
  {
   "cell_type": "markdown",
   "id": "3307c620",
   "metadata": {},
   "source": [
    "#### Restriccion sobre la localizacion del almacen\n",
    "Como la decision de donde se construye el almacen es excluyente (una ciudad **u** otra, en caso de hacerse) podemos restringirlo tal que:\n",
    "$$x_{3} + x_{4} \\leq 1$$"
   ]
  },
  {
   "cell_type": "markdown",
   "id": "611bdf04",
   "metadata": {},
   "source": [
    "#### Restriccion sobre decisiones condicionales\n",
    "En el planteamiento de nuestro modelo se incluyen tambien la condicion de, si se hace la fabrica en una ciudad, entonces no se puede crear el almacen en la misma ciudad.\n",
    "Esto lo expresamos, en el caso de Los Angeles:\n",
    "\\begin{align*}\n",
    "x_{3} &\\leq x_{1}\\\\\n",
    "-x_{1} + x_{3} &\\leq 0\n",
    "\\end{align*}\n",
    "Y en el caso de San Francisco es:\n",
    "\\begin{align*}\n",
    "x_{4} &\\leq x_{2}\\\\\n",
    "-x_{2} + x_{4} &\\leq 0\n",
    "\\end{align*}\n",
    "\n",
    "Donde forzamos a que, si una variable sobre una ciudad $x_{i} = 1$ entonces ahi se podra hacer un almacen. "
   ]
  },
  {
   "cell_type": "markdown",
   "id": "d8c06ad2",
   "metadata": {},
   "source": [
    "Recogiendo los datos del modelo, tenemos una funcion objetivo :\n",
    "$$Z= 9x_{1} + 5x_{2} + 6x_{3} + 4x_{4}$$\n",
    "\n",
    "Evaluada sobre las siguientes restricciones:\n",
    "\\begin{align*}\n",
    "6x_{1} + 3x_{2} + 5x_{3} + 2x_{4} &\\leq 10 \\\\\n",
    "x_{3} + x_{4} &\\leq 1\\\\\n",
    "-x_{1} + x_{3} &\\leq 0\\\\\n",
    "-x_{2} + x_{4} &\\leq 0\n",
    "\\end{align*}"
   ]
  },
  {
   "cell_type": "markdown",
   "id": "dd7b9c9d",
   "metadata": {},
   "source": [
    "## Soluciones\n",
    "<p align=\"justify\">Viendo las restricciones que tenemos sobre el valor de las variables (el hecho de que sean binarias) podemos indagar directamente en los valores y costes de tomar cada conjunto de decisiones, tomando en cuenta que solo pueden haber almacenes en ciudades con fabricas, hay un presupuesto de $\\$ $ $10$ Millones y pueden haber fabricas en ambas ciudades. Teniendo esto en cuensta tenemos tres opciones:</p>"
   ]
  },
  {
   "cell_type": "markdown",
   "id": "6c675c62",
   "metadata": {},
   "source": [
    "|                                         |  Valor neto  | Capital Requerido | Vector solucion |\n",
    "|:---------------------------------------:|:------------:|:-----------------:|:---------------:|\n",
    "| Fabricas en San Francisco y Los Angeles |<span style=\"color: #6fa8dc\">$\\$ $ $14$ Millones </span>|<span style=\"color: #6fa8dc\">    $\\$ $ $9$ Millones </span>    |    (1,1,0,0)    |\n",
    "|    Fabrica y almacen en  Los Angeles    |  <span style=\"color: #6aa84f\">$\\$ $ $15$ Millones </span>|  <span style=\"color: #f44336\">   $\\$ $$11$ Millones   </span>|    (1,0,1,0)    |\n",
    "|   Fabrica y almacen en  San Francisco   |  $\\$ $ $9$ Millones |    $\\$ $ $5$ Millones    |    (0,1,0,1)    |"
   ]
  },
  {
   "cell_type": "markdown",
   "id": "836b98f7",
   "metadata": {},
   "source": [
    "Viendo asi que, aun teniendo una fabrica y un almacen en Los Angeles seria el resultado que mejor maximiza las ganancias, realmente la opcion a tener en cuenta es construir una fabrica en cada ciudad.\n",
    "En caso de que se restrinja a tener una fabrica y un almacen, que seria agregando la siguiente restriccion:\n",
    "$$x_{1} + x_{2} \\leq 1$$\n",
    "Esto nos deja que la solucion a tomar en cuenta es tener una fabrica y un almacen en San Francisco.\n",
    "\n",
    "Finalmente, si mantenemos esta ultima restriccion y eliminamos aquellas que nos restringen tener almacenes en ciudades con fabricas, tenemos los siguientes resultados a evaluar:"
   ]
  },
  {
   "cell_type": "markdown",
   "id": "133c7471",
   "metadata": {},
   "source": [
    "|                                         |  Valor neto  | Capital Requerido | Vector solucion |\n",
    "|:---------------------------------------:|:------------:|:-----------------:|:---------------:|\n",
    "| Fabrica en San Francisco y almacen en Los Angeles|$\\$ $ $11$ Millones |   $\\$ $ $8$ Millones   |    (0,1,1,0)    |\n",
    "|    Fabrica en Los Angeles y almacen en San Francisco   |  <span style=\"color: #6fa8dc\">$\\$ $ $13$ Millones </span>|  <span style=\"color: #6fa8dc\">   $\\$ $$8$ Millones   </span>|    (1,0,0,1)    |"
   ]
  },
  {
   "cell_type": "markdown",
   "id": "d2600140",
   "metadata": {},
   "source": [
    "Lo que nos quiere decir que, en caso de decidir tener un almacen **y** una fabrica, pudiendo estar en ciudades diferentes, lo mejor sera tener la fabrica en Los Angeles y el almacen en San Francisco."
   ]
  },
  {
   "cell_type": "code",
   "execution_count": null,
   "id": "578e5dce",
   "metadata": {},
   "outputs": [],
   "source": []
  }
 ],
 "metadata": {
  "kernelspec": {
   "display_name": "Python 3",
   "language": "python",
   "name": "python3"
  },
  "language_info": {
   "codemirror_mode": {
    "name": "ipython",
    "version": 3
   },
   "file_extension": ".py",
   "mimetype": "text/x-python",
   "name": "python",
   "nbconvert_exporter": "python",
   "pygments_lexer": "ipython3",
   "version": "3.8.8"
  }
 },
 "nbformat": 4,
 "nbformat_minor": 5
}
