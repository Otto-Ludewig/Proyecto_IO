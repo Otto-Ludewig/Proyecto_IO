{
 "cells": [
  {
   "cell_type": "markdown",
   "id": "a70b5219",
   "metadata": {},
   "source": [
    "# P&T Company\n",
    "***\n",
    "\n",
    "Para este problema trabajaremos las herramientas que nos ofrece el paquete **PuLP** de Python a traves de Jupyter Notebooks. \n",
    "Este es un ejemplo de un modelo que aplica la programcion lineal entera a un sistema de transporte entre enlatadoras y almacenes. El problema dice tal que:\n",
    "\n",
    "## Planteamiento del Problema\n",
    "\n",
    " \n",
    "<div style=\"text-align: justify\">Uno de los productos más importantes de la P&T COMPANY es el chícharo enlatado. Los chicharos se preparan en tres enlatadoras (cercanas a Bellingham, Washington; Eugene, Oregon, y Albert Lea, Minnesota) y después se envían por camión a cuatro almacenes de distribución (Sacramento, California; Salt Lake City, Utah; Rapid City, South Dakota, y Albuquerque, Nuevo México) en el oeste de Estados Unidos. Debido a que los costos de embarque constituyen un gasto importante, la administración ha iniciado un estudio para reducirlos a su mínima expresión. Se ha estimado la producción de cada enlatadora durante la próxima temporada y se ha asignado a cada almacén cierta cantidad de la producción total de chícharos.\n",
    "En la  sigiuiente tabla se proporciona esta información (en unidades de carga de camión) junto con el costo de transporte por camión cargado de cada combinación de enlatadora-almacén. </div>"
   ]
  },
  {
   "cell_type": "markdown",
   "id": "8374b98a",
   "metadata": {},
   "source": [
    "|                | *Sacramento* | *Salt Lake* | *Rapid City* | *Alburqueque* | **Produccion** |\n",
    "|:--------------:|:----------:|:---------:|:----------:|:-----------:|:--------------:|\n",
    "|   *Bellingham*  |    $464 \\$ $   |   $513 \\$ $   |    $654\\$ $   |    $867 \\$ $    |      $75$      |\n",
    "|     *Eugene*     |    $352 \\$ $   |   $416 \\$ $   |    $690 \\$ $   |    $791 \\$  $    |      $125$     |\n",
    "|   *Albert Lea*   |    $995\\$ $   |   $682 \\$ $   |    $388 \\$ $   |    $685 \\$ $    |      $100$     |\n",
    "| **Asignacion** |    $80$    |    $65$   |    $70$    |     $85$    |                |"
   ]
  },
  {
   "cell_type": "markdown",
   "id": "e0e33abb",
   "metadata": {},
   "source": [
    "<div style =\"text-align: justify\">Como se ve, hay un total de $300$ cargas de camión que se deben transportar. El problema es determinar el plan de asignación de estos embarques a las distintas combinaciones de enlatadora-almacén que minimice el costo total de transporte. </div>"
   ]
  },
  {
   "cell_type": "markdown",
   "id": "c9d41b16",
   "metadata": {},
   "source": [
    "## Modelo matematico\n",
    "<div style =\"text-align: justify\"> El primer paso sera plantear nuestro modelo matematico. Empezando por definir nuestras variables de decision. Tomando en cuenta que buscamos <b>minimizar</b> los costes de transporte, y que dichos costes vienen determinados por cada camion en cada una de las distintas rutas posibles. Vemos entonces que, por cada una de las $3$ enlatadoras hay $4$ almacenes a donde puede ir la carga, cada una con un coste de transporte dependiendo de sus almacenes destinos que varia sobre la enlatadora de origen, pudiendo asi definirlas tal que: </div>"
   ]
  },
  {
   "cell_type": "markdown",
   "id": "b06ca602",
   "metadata": {},
   "source": [
    "|                | *Sacramento* | *Salt Lake* | *Rapid City* | *Alburqueque* |\n",
    "|:--------------:|:----------:|:---------:|:----------:|:-----------:|\n",
    "|   *Bellingham*  |    $464x_{11} $   |   $513x_{12}$   |    $654x_{13} $   |    $867x_{14} $    | \n",
    "|     *Eugene*     |    $352x_{21} $   |   $416x_{22}$   |    $690x_{23} $   |    $791x_{24} $    |\n",
    "|   *Albert Lea*   |    $995x_{31} $   |   $682x_{32}$   |    $388x_{33} $   |    $685x_{34} $    |  "
   ]
  },
  {
   "cell_type": "markdown",
   "id": "769dd950",
   "metadata": {},
   "source": [
    "Teniendo asi una funcion objetivo tal que: $\\\\ $ \n",
    "$$ \\min Z = 464x_{11}+513x_{12}+654x_{13}+867x_{14}+352x_{21}+416x_{22}+690x_{23}+791x_{24}+995x_{31}+682x_{32}+388x_{33}+685x_{34}$$"
   ]
  },
  {
   "cell_type": "markdown",
   "id": "9c289295",
   "metadata": {},
   "source": [
    "Donde cada variable nos indica:\n",
    "- $x_{11} =$ La cantidad de camiones que en la siguiente temporada haran el recorrido Bellingham-Sacramento.\n",
    "- $x_{12} =$ La cantidad de camiones que en la siguiente temporada haran el recorrido Bellingham-Salt Lake.\n",
    "- $x_{13} =$ La cantidad de camiones que en la siguiente temporada haran el recorrido Bellingham-Rapid City.\n",
    "- $x_{14} =$ La cantidad de camiones que en la siguiente temporada haran el recorrido Bellingham-Alburqueque.\n",
    "- $x_{21} =$ La cantidad de camiones que en la siguiente temporada haran el recorrido Eugene-Sacramento.\n",
    "- $x_{22} =$ La cantidad de camiones que en la siguiente temporada haran el recorrido Eugene-Salt Lake.\n",
    "- $x_{23} =$ La cantidad de camiones que en la siguiente temporada haran el recorrido Eugene-Rapid City.\n",
    "- $x_{24} =$ La cantidad de camiones que en la siguiente temporada haran el recorrido Eugene-Alburqueque.\n",
    "- $x_{31} =$ La cantidad de camiones que en la siguiente temporada haran el recorrido Albert Lea-Sacramento.\n",
    "- $x_{32} =$ La cantidad de camiones que en la siguiente temporada haran el recorrido Albert Lea-Salt Lake.\n",
    "- $x_{33} =$ La cantidad de camiones que en la siguiente temporada haran el recorrido Albert Lea-Rapid City.\n",
    "- $x_{34} =$ La cantidad de camiones que en la siguiente temporada haran el recorrido Albert Lea-Alburqueque."
   ]
  },
  {
   "cell_type": "markdown",
   "id": "45f195be",
   "metadata": {},
   "source": [
    "Cuyas restricciones sobre la produccion de cada enlatadora tenemos que son:"
   ]
  },
  {
   "cell_type": "markdown",
   "id": "8c4df56a",
   "metadata": {},
   "source": [
    "\n",
    "\\begin{align*}\n",
    "x_{11} + x_{12} + x_{13} + x_{14} &\\geq 75 \\quad &\\text{(Bellingham)}\\\\\n",
    "x_{21} + x_{22} + x_{23} + x_{24} &\\geq 125 \\quad &\\text{(Eugene)} \\\\\n",
    "x_{31} + x_{32} + x_{33} + x_{34} &\\geq 100 \\quad &\\text{(Albert Lea)}\\\\\n",
    "\\end{align*}\n"
   ]
  },
  {
   "cell_type": "markdown",
   "id": "a7f87ad0",
   "metadata": {},
   "source": [
    "Y cuyas restricciones sobre la asignacion de cada almacen son:"
   ]
  },
  {
   "cell_type": "markdown",
   "id": "2b2cb903",
   "metadata": {},
   "source": [
    "\n",
    "\\begin{align*}\n",
    "x_{11}+x_{21} +x_{31} &\\geq 80 \\quad &\\text{(Sacramento)}\\\\\n",
    "x_{12}+x_{22} +x_{32} &\\geq 65 \\quad &\\text{(Salt Lake)}\\\\\n",
    "x_{13}+x_{23} +x_{33} &\\geq 75 \\quad &\\text{(Rapid City)}\\\\\n",
    "x_{14}+x_{24} +x_{34} &\\geq 85 \\quad &\\text{(Alburqueque)}\\\\\n",
    "\\end{align*}\n",
    "\n"
   ]
  },
  {
   "cell_type": "markdown",
   "id": "2e88e28e",
   "metadata": {},
   "source": [
    "## Aplicacion con PuLP\n",
    "<div style =\"text-align: justify\"> Teniendo este modelo planteado pasaremos a plantear nuestro modelo dentro del esquema que ofrece Python para hallar soluciones optimas. Para ello importaremos los paquetes necesarios primero: <div>"
   ]
  },
  {
   "cell_type": "code",
   "execution_count": null,
   "id": "7890ae80",
   "metadata": {},
   "outputs": [],
   "source": [
    "from pulp import *\n",
    "import pandas as pd\n",
    "import numpy as np"
   ]
  },
  {
   "cell_type": "markdown",
   "id": "8636745e",
   "metadata": {},
   "source": [
    "### Planteamiento del Modelo\n",
    "Ahora que tenemos las bibliotecas preparadas, generaremos objetos que almacenen los distintos elementos de nuestro modelo:\n"
   ]
  },
  {
   "cell_type": "code",
   "execution_count": null,
   "id": "74a5bea4",
   "metadata": {},
   "outputs": [],
   "source": [
    "matriz_coste = np.array([[464,513,654,867],\n",
    "                         [352,416,690,791],\n",
    "                         [995,682,388,685]])\n",
    "\n",
    "prod_enlat = np.array([75,125,100])\n",
    "\n",
    "asign_alm = np.array([80,65,70,85])\n",
    "\n",
    "#En caso de querer aplicar el mismo programa para otros problemas sera cuestion de cambiar los parametros de esta celda.\n",
    "n_enlatadoras = 3\n",
    "n_almacenes = 4"
   ]
  },
  {
   "cell_type": "markdown",
   "id": "19602b13",
   "metadata": {},
   "source": [
    "<div style=\"text-align: justify\">Donde nuestra tabla de costes es descrita por una matriz $3x4$, las cuotas de produccion son almacenadas en un vector de dimension $3$ (Estamos trabajando con tres enlatadoras) y la asignacion a cada almacen corresponden a un vector de $4$ dimensiones (Estamos trabajando con cuatro almacenes). </div>"
   ]
  },
  {
   "cell_type": "markdown",
   "id": "3643691f",
   "metadata": {},
   "source": [
    "### Funcion Objetivo y Variables de decision\n",
    "Ahora procederemos a generar, con los datos cargados, todo lo necesario para buscar soluciones optimas. Empezando por indicar que nuestro modelo es un problema de *minimizacion*:"
   ]
  },
  {
   "cell_type": "code",
   "execution_count": null,
   "id": "fbb32f51",
   "metadata": {},
   "outputs": [],
   "source": [
    "modelo = LpProblem(\"P&T_Company_gastos_transporte\", LpMinimize)"
   ]
  },
  {
   "cell_type": "markdown",
   "id": "64207745",
   "metadata": {},
   "source": [
    "Seguido de las variables de desicion:"
   ]
  },
  {
   "cell_type": "code",
   "execution_count": null,
   "id": "db5eccb2",
   "metadata": {},
   "outputs": [],
   "source": [
    "nombres_variables = [str(i)+str(j) for j in range(1,n_almacenes+1) for i in range(1, n_enlatadoras+1)]\n",
    "nombres_variables.sort()\n",
    "print(\"Indices de Variables:\",nombres_variables)"
   ]
  },
  {
   "cell_type": "markdown",
   "id": "09c939cd",
   "metadata": {},
   "source": [
    "<div style =\"text-align: justify\"> Donde tenemos los mismos indices para nuestras variables de decision que indicamos en el modelado matematico. Ahora le indicaremos a PuLP como son nuestras variables de decision haciendo uso de la funcion LpVariables.matrix:</div> "
   ]
  },
  {
   "cell_type": "code",
   "execution_count": null,
   "id": "ea0e0800",
   "metadata": {},
   "outputs": [],
   "source": [
    "variables_decision = LpVariable.matrix(\"X\", nombres_variables, cat = \"Integer\", lowBound= 0 )\n",
    "transporte = np.array(variables_decision).reshape(3,4)\n",
    "print(\"Matriz de transporte \")\n",
    "print(transporte)"
   ]
  },
  {
   "cell_type": "markdown",
   "id": "01bdebaf",
   "metadata": {},
   "source": [
    "La funcion ```LpVariable.matrix()``` tiene $4$ argumentos en este escenario:\n",
    "- El nombre de las variables \"X\"\n",
    "- Los indices de las mismas guardados en nombres_variables\n",
    "- El parametro \"cat\" que nos permite restringir las variables a valores enteros\n",
    "- La restriccion de que todas las variables sean no negativas con el parametro \"lowBound\""
   ]
  },
  {
   "cell_type": "markdown",
   "id": "0229a6e9",
   "metadata": {},
   "source": [
    "Teniendo esto en consideracion ahora pasaremos a construir nuestra funcion objetivo:"
   ]
  },
  {
   "cell_type": "code",
   "execution_count": null,
   "id": "f54ef6ac",
   "metadata": {},
   "outputs": [],
   "source": [
    "func_obj = lpSum(transporte*matriz_coste)\n",
    "#Ahora mostramos en pantalla la forma de nuestra funcion objetivo \n",
    "print(func_obj)\n",
    "#Agregamos dicha funcion objetivo al modelo que tenemos.\n",
    "modelo +=  func_obj"
   ]
  },
  {
   "cell_type": "markdown",
   "id": "ac9f9a33",
   "metadata": {},
   "source": [
    "Asi, haciendo uso de las funciones disponibles en PuLP logramos establecer una funcion objetivo identica a la detallada en el modelado matematico. "
   ]
  },
  {
   "cell_type": "markdown",
   "id": "6dc63f0f",
   "metadata": {},
   "source": [
    "### Restricciones "
   ]
  },
  {
   "cell_type": "markdown",
   "id": "344ce4ad",
   "metadata": {},
   "source": [
    "Ahora solo nos queda plantear las restricciones, las cuales son por enlatadora:"
   ]
  },
  {
   "cell_type": "code",
   "execution_count": null,
   "id": "04c6ed53",
   "metadata": {},
   "outputs": [],
   "source": [
    "for i in range(n_enlatadoras):\n",
    "    print(lpSum(transporte[i][j] for j in range(n_almacenes)) >= prod_enlat[i])\n",
    "    modelo += lpSum(transporte[i][j] for j in range(n_almacenes)) >= prod_enlat[i] , \"Restricciones de Produccion\" + str(i)\n"
   ]
  },
  {
   "cell_type": "markdown",
   "id": "d5c3fb18",
   "metadata": {},
   "source": [
    "Y otras por almacen:"
   ]
  },
  {
   "cell_type": "code",
   "execution_count": null,
   "id": "5ceb49fb",
   "metadata": {},
   "outputs": [],
   "source": [
    "for j in range(n_almacenes):\n",
    "    print(lpSum(transporte[i][j] for i in range(n_enlatadoras)) >= asign_alm[j])\n",
    "    modelo += lpSum(transporte[i][j] for i in range(n_enlatadoras)) >= asign_alm[j] , \"Restricciones de asignacion \" + str(j)\n"
   ]
  },
  {
   "cell_type": "markdown",
   "id": "210cb46c",
   "metadata": {},
   "source": [
    "### Modelo en Python\n",
    "<div style=\"text-align: justify\">Para comprobar que nuestro modelo se encuentre correctamente planteado, vamos a mostrarlo por pantalla. En caso de estar bien, deberia ser identico a nuestro modelo matematico.</div>"
   ]
  },
  {
   "cell_type": "code",
   "execution_count": null,
   "id": "f1bd6ba5",
   "metadata": {},
   "outputs": [],
   "source": [
    "print(modelo)"
   ]
  },
  {
   "cell_type": "markdown",
   "id": "481c5b5f",
   "metadata": {},
   "source": [
    "<div style=\"text-align: justify\">Como podemos observar, nuestra funcion objetivo, las restricciones sobre las variables, la produccion de cada enlatadora y la asignacion de cada almacen son identicas a nuestro modelo matematico.</div>"
   ]
  },
  {
   "cell_type": "markdown",
   "id": "f4c3cf65",
   "metadata": {},
   "source": [
    "### Solucion\n",
    "<div style=\"text-align: justify\">Antes de conocer el valor de la funcion objetivo, tenemos que evaluar si nuestro modelo tiene una solucion optima o no, para ello hacemos: </div>"
   ]
  },
  {
   "cell_type": "code",
   "execution_count": null,
   "id": "acf77bf9",
   "metadata": {},
   "outputs": [],
   "source": [
    "modelo.solve()\n",
    "print(\"Status:\",LpStatus[modelo.status])"
   ]
  },
  {
   "cell_type": "markdown",
   "id": "9692c6a8",
   "metadata": {},
   "source": [
    "<div style=\"text-align: justify\">Y viendo que la respuesta es afirmativa, podemos ver que la solucion a nuestro modelo es de:</div>"
   ]
  },
  {
   "cell_type": "code",
   "execution_count": null,
   "id": "219b85e4",
   "metadata": {},
   "outputs": [],
   "source": [
    "for v in modelo.variables():\n",
    "    if v.varValue > 0:\n",
    "        print(v.name, \"=\", v.varValue)\n",
    "print(\"El coste minimo es:\", value(modelo.objective))"
   ]
  },
  {
   "cell_type": "markdown",
   "id": "15419385",
   "metadata": {},
   "source": [
    "Teniendo asi una solucion donde $ Z = 152.532 $ \n",
    "\n",
    "Ademas, tenemos tambien que las rutas a utilizar son las siguientes:"
   ]
  },
  {
   "cell_type": "markdown",
   "id": "30e92549",
   "metadata": {},
   "source": [
    "|                | *Sacramento* | *Salt Lake* | *Rapid City* | *Alburqueque* |\n",
    "|:--------------:|:----------:|:---------:|:----------:|:-----------:|\n",
    "|   *Bellingham*  |    $0 $   |   $20$   |    $0 $   |    $55 $    | \n",
    "|     *Eugene*     |    $80$   |   $45$   |    $0 $   |    $0 $    |\n",
    "|   *Albert Lea*   |    $0$   |   $0$   |    $70 $   |    $30 $    |  "
   ]
  },
  {
   "cell_type": "markdown",
   "id": "c7e98626",
   "metadata": {},
   "source": [
    "Es decir, para la planificacion de la siguiente temporada se deben establecer las siguientes rutas:\n",
    "- $20$ Rutas Bellingham-Salt Lake $\\quad$ ($10.260\\$ $, $7\\%$ del presupuesto)\n",
    "- $55$ Rutas Bellingham-Alburqueque $\\quad$ ($47.685\\$ $, $31\\%$ del presupuesto)\n",
    "- $80$ Rutas Eugene-Sacramento $\\quad$ ($28.160\\$ $, $19\\%$ del presupuesto)\n",
    "- $45$ Rutas Eugene-Salt Lake $\\quad$ ($18.720\\$ $, $12\\%$ del presupuesto)\n",
    "- $70$ Rutas Albert Lea-Rapid City $\\quad$ ($27.160\\$ $, $18\\%$ del presupuesto)\n",
    "- $30$ Rutas Albert Lea-Alburqueque $\\quad$ ($20.550\\$ $, $13\\%$ del presupuesto)"
   ]
  },
  {
   "cell_type": "markdown",
   "id": "b2bf388d",
   "metadata": {},
   "source": [
    "Desde aqui podemos concluir algunos resultados:\n",
    "- La ruta mas costosa en esta planificacion seria Bellingham-Alburqueque.\n",
    "- La ruta de mayor transito esta siguiente temporada sera Eugene-Sacramento.\n",
    "- La almacenadora de Sacramento solo recibira mercancia de la enlatadora en Eugene.\n",
    "- La almacenadora en Rapid City solo recibira mercancia de la enlatadora en Albert Lea."
   ]
  },
  {
   "cell_type": "code",
   "execution_count": null,
   "id": "1acc7455",
   "metadata": {},
   "outputs": [],
   "source": []
  }
 ],
 "metadata": {
  "kernelspec": {
   "display_name": "Python 3",
   "language": "python",
   "name": "python3"
  },
  "language_info": {
   "codemirror_mode": {
    "name": "ipython",
    "version": 3
   },
   "file_extension": ".py",
   "mimetype": "text/x-python",
   "name": "python",
   "nbconvert_exporter": "python",
   "pygments_lexer": "ipython3",
   "version": "3.8.8"
  }
 },
 "nbformat": 4,
 "nbformat_minor": 5
}
